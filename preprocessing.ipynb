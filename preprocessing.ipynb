{
 "cells": [
  {
   "cell_type": "code",
   "execution_count": null,
   "metadata": {},
   "outputs": [
    {
     "name": "stdout",
     "output_type": "stream",
     "text": [
      "    Loan_ID Gender Married Dependents     Education Self_Employed  \\\n",
      "0  LP001002   Male      No          0      Graduate            No   \n",
      "1  LP001003   Male     Yes          1      Graduate            No   \n",
      "2  LP001005   Male     Yes          0      Graduate           Yes   \n",
      "3  LP001006   Male     Yes          0  Not Graduate            No   \n",
      "4  LP001008   Male      No          0      Graduate            No   \n",
      "\n",
      "   ApplicantIncome  CoapplicantIncome  LoanAmount  Loan_Amount_Term  \\\n",
      "0             5849                0.0         NaN             360.0   \n",
      "1             4583             1508.0       128.0             360.0   \n",
      "2             3000                0.0        66.0             360.0   \n",
      "3             2583             2358.0       120.0             360.0   \n",
      "4             6000                0.0       141.0             360.0   \n",
      "\n",
      "   Credit_History Property_Area Loan_Status  \n",
      "0             1.0         Urban           Y  \n",
      "1             1.0         Rural           N  \n",
      "2             1.0         Urban           Y  \n",
      "3             1.0         Urban           Y  \n",
      "4             1.0         Urban           Y  \n"
     ]
    }
   ],
   "source": [
    "import pandas as pd\n",
    "\n",
    "# Load the dataset\n",
    "df = pd.read_csv('data.csv')\n",
    "\n",
    "print(df.head())"
   ]
  },
  {
   "cell_type": "code",
   "execution_count": 2,
   "metadata": {},
   "outputs": [
    {
     "name": "stdout",
     "output_type": "stream",
     "text": [
      "  Gender Married Dependents     Education Self_Employed  ApplicantIncome  \\\n",
      "0   Male      No          0      Graduate            No             5849   \n",
      "1   Male     Yes          1      Graduate            No             4583   \n",
      "2   Male     Yes          0      Graduate           Yes             3000   \n",
      "3   Male     Yes          0  Not Graduate            No             2583   \n",
      "4   Male      No          0      Graduate            No             6000   \n",
      "\n",
      "   CoapplicantIncome  LoanAmount  Loan_Amount_Term  Credit_History  \\\n",
      "0                0.0         NaN             360.0             1.0   \n",
      "1             1508.0       128.0             360.0             1.0   \n",
      "2                0.0        66.0             360.0             1.0   \n",
      "3             2358.0       120.0             360.0             1.0   \n",
      "4                0.0       141.0             360.0             1.0   \n",
      "\n",
      "  Property_Area Loan_Status  \n",
      "0         Urban           Y  \n",
      "1         Rural           N  \n",
      "2         Urban           Y  \n",
      "3         Urban           Y  \n",
      "4         Urban           Y  \n"
     ]
    }
   ],
   "source": [
    "# drop  Loand_ID column\n",
    "df.drop('Loan_ID', axis=1, inplace=True)\n",
    "print(df.head())"
   ]
  },
  {
   "cell_type": "code",
   "execution_count": 29,
   "metadata": {},
   "outputs": [
    {
     "name": "stdout",
     "output_type": "stream",
     "text": [
      "Gender               13\n",
      "Married               3\n",
      "Dependents           15\n",
      "Education             0\n",
      "Self_Employed        32\n",
      "ApplicantIncome       0\n",
      "CoapplicantIncome     0\n",
      "LoanAmount           22\n",
      "Loan_Amount_Term     14\n",
      "Credit_History       50\n",
      "Property_Area         0\n",
      "Loan_Status           0\n",
      "dtype: int64\n"
     ]
    }
   ],
   "source": [
    "# check missing values in df\n",
    "print(df.isnull().sum())"
   ]
  },
  {
   "cell_type": "code",
   "execution_count": 33,
   "metadata": {},
   "outputs": [],
   "source": [
    "# split the dataset into train and test\n",
    "from sklearn.model_selection import train_test_split\n",
    "\n",
    "X = df.drop('Loan_Status', axis=1)\n",
    "y = df['Loan_Status']\n",
    "\n",
    "X_train, X_test, y_train, y_test = train_test_split(X, y, test_size=0.2, random_state=42)\n",
    "# print(y_train)\n",
    "\n"
   ]
  },
  {
   "cell_type": "code",
   "execution_count": 34,
   "metadata": {},
   "outputs": [
    {
     "name": "stdout",
     "output_type": "stream",
     "text": [
      "0\n",
      "0\n"
     ]
    }
   ],
   "source": [
    "# check missing values in y train and test\n",
    "print(y_train.isnull().sum())\n",
    "print(y_test.isnull().sum())"
   ]
  },
  {
   "cell_type": "code",
   "execution_count": 36,
   "metadata": {},
   "outputs": [
    {
     "name": "stdout",
     "output_type": "stream",
     "text": [
      "Gender               12\n",
      "Married               1\n",
      "Dependents           11\n",
      "Education             0\n",
      "Self_Employed        24\n",
      "ApplicantIncome       0\n",
      "CoapplicantIncome     0\n",
      "LoanAmount           16\n",
      "Loan_Amount_Term     12\n",
      "Credit_History       40\n",
      "Property_Area         0\n",
      "dtype: int64\n"
     ]
    }
   ],
   "source": [
    "# check missing values in X_train\n",
    "print(X_train.isnull().sum())"
   ]
  },
  {
   "cell_type": "code",
   "execution_count": 37,
   "metadata": {},
   "outputs": [
    {
     "name": "stderr",
     "output_type": "stream",
     "text": [
      "C:\\Users\\USER\\AppData\\Local\\Temp\\ipykernel_27680\\1214935148.py:5: FutureWarning: A value is trying to be set on a copy of a DataFrame or Series through chained assignment using an inplace method.\n",
      "The behavior will change in pandas 3.0. This inplace method will never work because the intermediate object on which we are setting values always behaves as a copy.\n",
      "\n",
      "For example, when doing 'df[col].method(value, inplace=True)', try using 'df.method({col: value}, inplace=True)' or df[col] = df[col].method(value) instead, to perform the operation inplace on the original object.\n",
      "\n",
      "\n",
      "  X_train['LoanAmount'].fillna(mean_loan_amount, inplace=True)\n",
      "C:\\Users\\USER\\AppData\\Local\\Temp\\ipykernel_27680\\1214935148.py:6: FutureWarning: A value is trying to be set on a copy of a DataFrame or Series through chained assignment using an inplace method.\n",
      "The behavior will change in pandas 3.0. This inplace method will never work because the intermediate object on which we are setting values always behaves as a copy.\n",
      "\n",
      "For example, when doing 'df[col].method(value, inplace=True)', try using 'df.method({col: value}, inplace=True)' or df[col] = df[col].method(value) instead, to perform the operation inplace on the original object.\n",
      "\n",
      "\n",
      "  X_train['Loan_Amount_Term'].fillna(mean_loan_amount_term, inplace=True)\n",
      "C:\\Users\\USER\\AppData\\Local\\Temp\\ipykernel_27680\\1214935148.py:8: FutureWarning: A value is trying to be set on a copy of a DataFrame or Series through chained assignment using an inplace method.\n",
      "The behavior will change in pandas 3.0. This inplace method will never work because the intermediate object on which we are setting values always behaves as a copy.\n",
      "\n",
      "For example, when doing 'df[col].method(value, inplace=True)', try using 'df.method({col: value}, inplace=True)' or df[col] = df[col].method(value) instead, to perform the operation inplace on the original object.\n",
      "\n",
      "\n",
      "  X_test['LoanAmount'].fillna(mean_loan_amount, inplace=True)\n",
      "C:\\Users\\USER\\AppData\\Local\\Temp\\ipykernel_27680\\1214935148.py:9: FutureWarning: A value is trying to be set on a copy of a DataFrame or Series through chained assignment using an inplace method.\n",
      "The behavior will change in pandas 3.0. This inplace method will never work because the intermediate object on which we are setting values always behaves as a copy.\n",
      "\n",
      "For example, when doing 'df[col].method(value, inplace=True)', try using 'df.method({col: value}, inplace=True)' or df[col] = df[col].method(value) instead, to perform the operation inplace on the original object.\n",
      "\n",
      "\n",
      "  X_test['Loan_Amount_Term'].fillna(mean_loan_amount_term, inplace=True)\n"
     ]
    }
   ],
   "source": [
    "# calculate the mean for LoanAmount and Loadn_Amount_Term, then fill the missing values for both X_train and X_test\n",
    "mean_loan_amount = X_train['LoanAmount'].mean()\n",
    "mean_loan_amount_term = X_train['Loan_Amount_Term'].mean()\n",
    "\n",
    "X_train['LoanAmount'].fillna(mean_loan_amount, inplace=True)\n",
    "X_train['Loan_Amount_Term'].fillna(mean_loan_amount_term, inplace=True)\n",
    "\n",
    "X_test['LoanAmount'].fillna(mean_loan_amount, inplace=True)\n",
    "X_test['Loan_Amount_Term'].fillna(mean_loan_amount_term, inplace=True)\n"
   ]
  },
  {
   "cell_type": "code",
   "execution_count": 38,
   "metadata": {},
   "outputs": [
    {
     "name": "stdout",
     "output_type": "stream",
     "text": [
      "Gender               12\n",
      "Married               1\n",
      "Dependents           11\n",
      "Education             0\n",
      "Self_Employed        24\n",
      "ApplicantIncome       0\n",
      "CoapplicantIncome     0\n",
      "LoanAmount            0\n",
      "Loan_Amount_Term      0\n",
      "Credit_History       40\n",
      "Property_Area         0\n",
      "dtype: int64\n"
     ]
    }
   ],
   "source": [
    "# check missing values in X_train\n",
    "print(X_train.isnull().sum())"
   ]
  },
  {
   "cell_type": "code",
   "execution_count": 39,
   "metadata": {},
   "outputs": [
    {
     "name": "stdout",
     "output_type": "stream",
     "text": [
      "Male Yes 0 No 1.0\n"
     ]
    }
   ],
   "source": [
    "# calculate the mode for Gender, Married, Dependents, Self_Employed, Credit_History then fill the missing values for both X_train and X_test\n",
    "\n",
    "mode_gender = X_train['Gender'].mode()[0]\n",
    "mode_married = X_train['Married'].mode()[0]\n",
    "mode_dependents = X_train['Dependents'].mode()[0]\n",
    "mode_self_employed = X_train['Self_Employed'].mode()[0]\n",
    "mode_credit_history = X_train['Credit_History'].mode()[0]\n",
    "# print mode_gender, mode_married, mode_dependents, mode_self_employed, mode_credit_history\n",
    "print(mode_gender, mode_married, mode_dependents, mode_self_employed, mode_credit_history)"
   ]
  },
  {
   "cell_type": "code",
   "execution_count": 40,
   "metadata": {},
   "outputs": [
    {
     "name": "stderr",
     "output_type": "stream",
     "text": [
      "C:\\Users\\USER\\AppData\\Local\\Temp\\ipykernel_27680\\3200111900.py:3: FutureWarning: A value is trying to be set on a copy of a DataFrame or Series through chained assignment using an inplace method.\n",
      "The behavior will change in pandas 3.0. This inplace method will never work because the intermediate object on which we are setting values always behaves as a copy.\n",
      "\n",
      "For example, when doing 'df[col].method(value, inplace=True)', try using 'df.method({col: value}, inplace=True)' or df[col] = df[col].method(value) instead, to perform the operation inplace on the original object.\n",
      "\n",
      "\n",
      "  X_train['Gender'].fillna(mode_gender, inplace=True)\n",
      "C:\\Users\\USER\\AppData\\Local\\Temp\\ipykernel_27680\\3200111900.py:4: FutureWarning: A value is trying to be set on a copy of a DataFrame or Series through chained assignment using an inplace method.\n",
      "The behavior will change in pandas 3.0. This inplace method will never work because the intermediate object on which we are setting values always behaves as a copy.\n",
      "\n",
      "For example, when doing 'df[col].method(value, inplace=True)', try using 'df.method({col: value}, inplace=True)' or df[col] = df[col].method(value) instead, to perform the operation inplace on the original object.\n",
      "\n",
      "\n",
      "  X_train['Married'].fillna(mode_married, inplace=True)\n",
      "C:\\Users\\USER\\AppData\\Local\\Temp\\ipykernel_27680\\3200111900.py:5: FutureWarning: A value is trying to be set on a copy of a DataFrame or Series through chained assignment using an inplace method.\n",
      "The behavior will change in pandas 3.0. This inplace method will never work because the intermediate object on which we are setting values always behaves as a copy.\n",
      "\n",
      "For example, when doing 'df[col].method(value, inplace=True)', try using 'df.method({col: value}, inplace=True)' or df[col] = df[col].method(value) instead, to perform the operation inplace on the original object.\n",
      "\n",
      "\n",
      "  X_train['Dependents'].fillna(mode_dependents, inplace=True)\n",
      "C:\\Users\\USER\\AppData\\Local\\Temp\\ipykernel_27680\\3200111900.py:6: FutureWarning: A value is trying to be set on a copy of a DataFrame or Series through chained assignment using an inplace method.\n",
      "The behavior will change in pandas 3.0. This inplace method will never work because the intermediate object on which we are setting values always behaves as a copy.\n",
      "\n",
      "For example, when doing 'df[col].method(value, inplace=True)', try using 'df.method({col: value}, inplace=True)' or df[col] = df[col].method(value) instead, to perform the operation inplace on the original object.\n",
      "\n",
      "\n",
      "  X_train['Self_Employed'].fillna(mode_self_employed, inplace=True)\n",
      "C:\\Users\\USER\\AppData\\Local\\Temp\\ipykernel_27680\\3200111900.py:7: FutureWarning: A value is trying to be set on a copy of a DataFrame or Series through chained assignment using an inplace method.\n",
      "The behavior will change in pandas 3.0. This inplace method will never work because the intermediate object on which we are setting values always behaves as a copy.\n",
      "\n",
      "For example, when doing 'df[col].method(value, inplace=True)', try using 'df.method({col: value}, inplace=True)' or df[col] = df[col].method(value) instead, to perform the operation inplace on the original object.\n",
      "\n",
      "\n",
      "  X_train['Credit_History'].fillna(mode_credit_history, inplace=True)\n"
     ]
    }
   ],
   "source": [
    "# now fill the missing values for both X_train and X_test\n",
    "\n",
    "X_train['Gender'].fillna(mode_gender, inplace=True)\n",
    "X_train['Married'].fillna(mode_married, inplace=True)\n",
    "X_train['Dependents'].fillna(mode_dependents, inplace=True)\n",
    "X_train['Self_Employed'].fillna(mode_self_employed, inplace=True)\n",
    "X_train['Credit_History'].fillna(mode_credit_history, inplace=True)"
   ]
  },
  {
   "cell_type": "code",
   "execution_count": 41,
   "metadata": {},
   "outputs": [
    {
     "name": "stdout",
     "output_type": "stream",
     "text": [
      "Gender               0\n",
      "Married              0\n",
      "Dependents           0\n",
      "Education            0\n",
      "Self_Employed        0\n",
      "ApplicantIncome      0\n",
      "CoapplicantIncome    0\n",
      "LoanAmount           0\n",
      "Loan_Amount_Term     0\n",
      "Credit_History       0\n",
      "Property_Area        0\n",
      "dtype: int64\n"
     ]
    }
   ],
   "source": [
    "# check missing values in X_train\n",
    "print(X_train.isnull().sum())\n"
   ]
  },
  {
   "cell_type": "code",
   "execution_count": 42,
   "metadata": {},
   "outputs": [
    {
     "name": "stdout",
     "output_type": "stream",
     "text": [
      "0\n"
     ]
    }
   ],
   "source": [
    "# check missing values in y_train\n",
    "\n",
    "print(y_train.isnull().sum())"
   ]
  },
  {
   "cell_type": "code",
   "execution_count": 43,
   "metadata": {},
   "outputs": [
    {
     "name": "stdout",
     "output_type": "stream",
     "text": [
      "<class 'pandas.core.frame.DataFrame'>\n",
      "Index: 491 entries, 83 to 102\n",
      "Data columns (total 11 columns):\n",
      " #   Column             Non-Null Count  Dtype  \n",
      "---  ------             --------------  -----  \n",
      " 0   Gender             491 non-null    object \n",
      " 1   Married            491 non-null    object \n",
      " 2   Dependents         491 non-null    object \n",
      " 3   Education          491 non-null    object \n",
      " 4   Self_Employed      491 non-null    object \n",
      " 5   ApplicantIncome    491 non-null    int64  \n",
      " 6   CoapplicantIncome  491 non-null    float64\n",
      " 7   LoanAmount         491 non-null    float64\n",
      " 8   Loan_Amount_Term   491 non-null    float64\n",
      " 9   Credit_History     491 non-null    float64\n",
      " 10  Property_Area      491 non-null    object \n",
      "dtypes: float64(4), int64(1), object(6)\n",
      "memory usage: 46.0+ KB\n",
      "None\n"
     ]
    }
   ],
   "source": [
    "# print info of X_train\n",
    "print(X_train.info())"
   ]
  },
  {
   "cell_type": "code",
   "execution_count": 44,
   "metadata": {},
   "outputs": [
    {
     "name": "stdout",
     "output_type": "stream",
     "text": [
      "    Gender Married Dependents Education Self_Employed  ApplicantIncome  \\\n",
      "83    Male     Yes          0  Graduate            No             6000   \n",
      "90    Male     Yes          0  Graduate            No             2958   \n",
      "227   Male     Yes          2  Graduate            No             6250   \n",
      "482   Male     Yes          0  Graduate            No             2083   \n",
      "464   Male      No          0  Graduate            No             4166   \n",
      "\n",
      "     CoapplicantIncome  LoanAmount  Loan_Amount_Term  Credit_History  \\\n",
      "83              2250.0       265.0             360.0             1.0   \n",
      "90              2900.0       131.0             360.0             1.0   \n",
      "227             1695.0       210.0             360.0             1.0   \n",
      "482             3150.0       128.0             360.0             1.0   \n",
      "464                0.0        98.0             360.0             0.0   \n",
      "\n",
      "    Property_Area  \n",
      "83      Semiurban  \n",
      "90      Semiurban  \n",
      "227     Semiurban  \n",
      "482     Semiurban  \n",
      "464     Semiurban  \n"
     ]
    }
   ],
   "source": [
    "print(X_train.head())\n"
   ]
  },
  {
   "cell_type": "code",
   "execution_count": 45,
   "metadata": {},
   "outputs": [
    {
     "name": "stdout",
     "output_type": "stream",
     "text": [
      "Index(['Gender', 'Married', 'Dependents', 'Education', 'Self_Employed',\n",
      "       'Property_Area'],\n",
      "      dtype='object')\n"
     ]
    }
   ],
   "source": [
    "# select all the categorical columns\n",
    "categorical_cols = X_train.select_dtypes(include='object').columns\n",
    "print(categorical_cols)"
   ]
  },
  {
   "cell_type": "code",
   "execution_count": 46,
   "metadata": {},
   "outputs": [
    {
     "name": "stdout",
     "output_type": "stream",
     "text": [
      "Index(['Gender', 'Married', 'Education', 'Self_Employed', 'Property_Area'], dtype='object')\n"
     ]
    }
   ],
   "source": [
    "# exclude Dependents\n",
    "categorical_cols = categorical_cols.drop('Dependents')\n",
    "print(categorical_cols)"
   ]
  },
  {
   "cell_type": "code",
   "execution_count": 47,
   "metadata": {},
   "outputs": [
    {
     "name": "stdout",
     "output_type": "stream",
     "text": [
      "    Dependents  ApplicantIncome  CoapplicantIncome  LoanAmount  \\\n",
      "83           0             6000             2250.0       265.0   \n",
      "90           0             2958             2900.0       131.0   \n",
      "227          2             6250             1695.0       210.0   \n",
      "482          0             2083             3150.0       128.0   \n",
      "464          0             4166                0.0        98.0   \n",
      "\n",
      "     Loan_Amount_Term  Credit_History  Gender_Male  Married_Yes  \\\n",
      "83              360.0             1.0         True         True   \n",
      "90              360.0             1.0         True         True   \n",
      "227             360.0             1.0         True         True   \n",
      "482             360.0             1.0         True         True   \n",
      "464             360.0             0.0         True        False   \n",
      "\n",
      "     Education_Not Graduate  Self_Employed_Yes  Property_Area_Semiurban  \\\n",
      "83                    False              False                     True   \n",
      "90                    False              False                     True   \n",
      "227                   False              False                     True   \n",
      "482                   False              False                     True   \n",
      "464                   False              False                     True   \n",
      "\n",
      "     Property_Area_Urban  \n",
      "83                 False  \n",
      "90                 False  \n",
      "227                False  \n",
      "482                False  \n",
      "464                False  \n"
     ]
    }
   ],
   "source": [
    "# now convert this categorical columns to numerical columns using get_dummies\n",
    "X_train = pd.get_dummies(X_train, columns=categorical_cols, drop_first=True)\n",
    "X_test = pd.get_dummies(X_test, columns=categorical_cols, drop_first=True)\n",
    "\n",
    "print(X_train.head())"
   ]
  },
  {
   "cell_type": "code",
   "execution_count": 49,
   "metadata": {},
   "outputs": [
    {
     "name": "stdout",
     "output_type": "stream",
     "text": [
      "Loan_Status\n",
      "1    342\n",
      "0    149\n",
      "Name: count, dtype: int64\n"
     ]
    }
   ],
   "source": [
    "# convert y_train and y_test to numerical values\n",
    "y_train = y_train.map({'Y':1, 'N':0})\n",
    "y_test = y_test.map({'Y':1, 'N':0})\n",
    "\n",
    "print(y_train.value_counts())"
   ]
  },
  {
   "cell_type": "code",
   "execution_count": 50,
   "metadata": {},
   "outputs": [
    {
     "name": "stdout",
     "output_type": "stream",
     "text": [
      "Training_data\n",
      "Features\n",
      "    Dependents  ApplicantIncome  CoapplicantIncome  LoanAmount  \\\n",
      "83           0             6000             2250.0       265.0   \n",
      "90           0             2958             2900.0       131.0   \n",
      "227          2             6250             1695.0       210.0   \n",
      "482          0             2083             3150.0       128.0   \n",
      "464          0             4166                0.0        98.0   \n",
      "\n",
      "     Loan_Amount_Term  Credit_History  Gender_Male  Married_Yes  \\\n",
      "83              360.0             1.0         True         True   \n",
      "90              360.0             1.0         True         True   \n",
      "227             360.0             1.0         True         True   \n",
      "482             360.0             1.0         True         True   \n",
      "464             360.0             0.0         True        False   \n",
      "\n",
      "     Education_Not Graduate  Self_Employed_Yes  Property_Area_Semiurban  \\\n",
      "83                    False              False                     True   \n",
      "90                    False              False                     True   \n",
      "227                   False              False                     True   \n",
      "482                   False              False                     True   \n",
      "464                   False              False                     True   \n",
      "\n",
      "     Property_Area_Urban  \n",
      "83                 False  \n",
      "90                 False  \n",
      "227                False  \n",
      "482                False  \n",
      "464                False  \n"
     ]
    }
   ],
   "source": [
    "# now print X_train and Y_train \n",
    "print(\"Training_data\")\n",
    "print(\"Features\")\n",
    "print(X_train.head())\n"
   ]
  },
  {
   "cell_type": "code",
   "execution_count": 51,
   "metadata": {},
   "outputs": [
    {
     "name": "stdout",
     "output_type": "stream",
     "text": [
      "Target\n",
      "83     0\n",
      "90     1\n",
      "227    1\n",
      "482    1\n",
      "464    0\n",
      "Name: Loan_Status, dtype: int64\n"
     ]
    }
   ],
   "source": [
    "print(\"Target\")\n",
    "print(y_train.head())"
   ]
  },
  {
   "cell_type": "code",
   "execution_count": null,
   "metadata": {},
   "outputs": [
    {
     "name": "stdout",
     "output_type": "stream",
     "text": [
      "Test_data\n",
      "Features\n",
      "    Dependents  ApplicantIncome  CoapplicantIncome  LoanAmount  \\\n",
      "350          0             9083                0.0       228.0   \n",
      "377          0             4310                0.0       130.0   \n",
      "163          2             4167             1447.0       158.0   \n",
      "609          0             2900                0.0        71.0   \n",
      "132          0             2718                0.0        70.0   \n",
      "\n",
      "     Loan_Amount_Term  Credit_History  Gender_Male  Married_Yes  \\\n",
      "350             360.0             1.0         True         True   \n",
      "377             360.0             NaN         True         True   \n",
      "163             360.0             1.0         True         True   \n",
      "609             360.0             1.0        False        False   \n",
      "132             360.0             1.0         True        False   \n",
      "\n",
      "     Education_Not Graduate  Self_Employed_Yes  Property_Area_Semiurban  \\\n",
      "350                   False              False                     True   \n",
      "377                   False              False                     True   \n",
      "163                   False              False                    False   \n",
      "609                   False              False                    False   \n",
      "132                   False              False                     True   \n",
      "\n",
      "     Property_Area_Urban  \n",
      "350                False  \n",
      "377                False  \n",
      "163                False  \n",
      "609                False  \n",
      "132                False  \n",
      "Target\n",
      "350    1\n",
      "377    1\n",
      "163    1\n",
      "609    1\n",
      "132    1\n",
      "Name: Loan_Status, dtype: int64\n"
     ]
    }
   ],
   "source": [
    "# print test data\n",
    "print(\"Test_data\")\n",
    "print(\"Features\")\n",
    "print(X_test.head())\n"
   ]
  },
  {
   "cell_type": "code",
   "execution_count": 53,
   "metadata": {},
   "outputs": [
    {
     "name": "stdout",
     "output_type": "stream",
     "text": [
      "Target\n",
      "350    1\n",
      "377    1\n",
      "163    1\n",
      "609    1\n",
      "132    1\n",
      "Name: Loan_Status, dtype: int64\n"
     ]
    }
   ],
   "source": [
    "print(\"Target\")\n",
    "print(y_test.head())"
   ]
  }
 ],
 "metadata": {
  "kernelspec": {
   "display_name": "Python 3",
   "language": "python",
   "name": "python3"
  },
  "language_info": {
   "codemirror_mode": {
    "name": "ipython",
    "version": 3
   },
   "file_extension": ".py",
   "mimetype": "text/x-python",
   "name": "python",
   "nbconvert_exporter": "python",
   "pygments_lexer": "ipython3",
   "version": "3.13.2"
  }
 },
 "nbformat": 4,
 "nbformat_minor": 2
}
